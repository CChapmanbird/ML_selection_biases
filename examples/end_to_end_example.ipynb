{
 "cells": [
  {
   "cell_type": "code",
   "execution_count": 2,
   "metadata": {},
   "outputs": [],
   "source": [
    "from mlsel.distributions import VariableLimitsPowerLaw, FixedLimitsTruncatedGaussian\n",
    "from mlsel.nn.networks import LinearModel\n",
    "from mlsel.nn.execute import train\n",
    "from mlsel.nn.rescaling import ZScoreRescaler\n",
    "import matplotlib.pyplot as plt\n",
    "import numpy as np\n",
    "import torch\n",
    "%load_ext autoreload\n",
    "%autoreload 2\n",
    "\n",
    "device = \"cpu\""
   ]
  },
  {
   "attachments": {},
   "cell_type": "markdown",
   "metadata": {},
   "source": [
    "In this example, we're going to learn an analytic SNR function and use it to model selection effects for a population of gravitational \n",
    "wave signals from compact binary coalescences. \n",
    "\n",
    "In reality, the SNR function is not analytic but our approach would be valid nonetheless."
   ]
  },
  {
   "attachments": {},
   "cell_type": "markdown",
   "metadata": {},
   "source": [
    "## Learning signal detectability\n",
    "\n",
    "Firstly, let's define an SNR function. We're going to focus on a few parameters: the masses $(m_1, m_2)$ of the compact objects, the luminosity distance to the binary $d_L$ (in some arbitrary units) and a trigonometric function of two \"sky position angles\" $(\\alpha, \\delta)$. \n",
    "We define the optimal SNR $\\rho$ as\n",
    "$$ \\rho = \\frac{1}{d_L} \\mathcal{M_c}^{2.2} f(\\alpha, \\delta)$$\n",
    "where $\\mathcal{M_c}$ is the chirp mass of the binary, defined as \n",
    "$$ \\mathcal{M_c} = \\frac{(m_1m_2)^{3/5}}{(m_1 + m_2)^{1/5}} $$\n",
    "and\n",
    "$$ f(\\alpha, \\delta) = -(1 + \\cos^2(2\\alpha/3) - \\sin^2(5\\delta/3))\\cos(5\\alpha/6)\\sin(4\\delta/3)$$\n",
    "\n",
    "Let's define these functions and visualise the form of $f$:"
   ]
  },
  {
   "cell_type": "code",
   "execution_count": 3,
   "metadata": {},
   "outputs": [
    {
     "data": {
      "text/plain": [
       "<matplotlib.colorbar.Colorbar at 0x7f75fe327850>"
      ]
     },
     "execution_count": 3,
     "metadata": {},
     "output_type": "execute_result"
    },
    {
     "data": {
      "image/png": "[encoded data removed]",
      "text/plain": [
       "<Figure size 640x480 with 2 Axes>"
      ]
     },
     "metadata": {},
     "output_type": "display_data"
    }
   ],
   "source": [
    "def dummy_antenna_pattern(a, d):\n",
    "    return 1 + (np.cos(2*a/3)**2 - np.sin(5*d/3)**2)*np.cos(5*a/6)*np.cos(4*d/3)\n",
    "\n",
    "def mchirp(m1, m2):\n",
    "    return (m1 * m2)**(3/5) / (m1 + m2)**(1/5)\n",
    "\n",
    "def snr(m1, m2, dL, alpha, delta):\n",
    "    return 1/dL * mchirp(m1, m2)**2.2 * dummy_antenna_pattern(alpha, delta)\n",
    "\n",
    "av, dv = np.meshgrid(np.linspace(0,2*np.pi), np.linspace(0, np.pi))\n",
    "Z = dummy_antenna_pattern(av, dv)\n",
    "plt.pcolormesh(av, dv, Z)\n",
    "plt.colorbar()"
   ]
  },
  {
   "attachments": {},
   "cell_type": "markdown",
   "metadata": {},
   "source": [
    "We're going to consider masses in the range [1, 100] $M_\\odot$, angles in the range $[0, 2 \\pi]$ and $[0, \\pi]$ for $\\alpha$ and $\\delta$ respectively and $d_L$ in the range $[1, 100]$ (in some arbitrary units). \n",
    "\n",
    "Let's generate a dataset of SNRs in this prior range, and our neural network to be trained on these SNRs. As SNR scales inversely with luminosity distance (which is obviously true for our analytic example, but is also true in general), we can factorise this out and train on the remaining parameters."
   ]
  },
  {
   "cell_type": "code",
   "execution_count": 93,
   "metadata": {},
   "outputs": [],
   "source": [
    "n_train = int(1e6)  # number of training examples\n",
    "\n",
    "# sample from our priors\n",
    "m1 = np.random.uniform(1, 100, n_train)\n",
    "m2 = np.random.uniform(1, 100, n_train)\n",
    "dL = np.random.uniform(0.01, 1, n_train)\n",
    "alpha = np.random.uniform(0, 2*np.pi, n_train)\n",
    "delta = np.random.uniform(0, 2*np.pi, n_train)\n",
    "\n",
    "true_snrs = snr(m1, m2, dL , alpha, delta)\n",
    "xdata = torch.as_tensor(np.vstack((m1, m2, alpha, delta)).T, device=device).float()\n",
    "ydata = torch.as_tensor(true_snrs * dL, device=device).float()"
   ]
  },
  {
   "cell_type": "code",
   "execution_count": 94,
   "metadata": {},
   "outputs": [],
   "source": [
    "# define a rescaler, which handles the scaling of input data to facilitate training\n",
    "rescaler = ZScoreRescaler(xdata, ydata)"
   ]
  },
  {
   "cell_type": "code",
   "execution_count": 95,
   "metadata": {},
   "outputs": [
    {
     "data": {
      "text/plain": [
       "LinearModel(\n",
       "  (layers): Sequential(\n",
       "    (0): Linear(in_features=4, out_features=128, bias=True)\n",
       "    (1): ReLU()\n",
       "    (2): Linear(in_features=128, out_features=128, bias=True)\n",
       "    (3): ReLU()\n",
       "    (4): Linear(in_features=128, out_features=1, bias=True)\n",
       "  )\n",
       ")"
      ]
     },
     "execution_count": 95,
     "metadata": {},
     "output_type": "execute_result"
    }
   ],
   "source": [
    "# define the neural network\n",
    "model = LinearModel(\n",
    "    in_features=4,\n",
    "    out_features=1,\n",
    "    neurons=[128, 128, 128,],\n",
    "    activation=torch.nn.ReLU,\n",
    "    rescaler=rescaler\n",
    ")\n",
    "\n",
    "model.to(device)"
   ]
  },
  {
   "cell_type": "code",
   "execution_count": null,
   "metadata": {},
   "outputs": [],
   "source": [
    "train_up_to = int(0.9 * n_train)\n",
    "xtrain = xdata[:train_up_to,:]\n",
    "ytrain = ydata[:train_up_to]\n",
    "xtest = xdata[train_up_to:,:]\n",
    "ytest = ydata[train_up_to:]\n",
    "\n",
    "optimiser = torch.optim.Adam(model.parameters(), lr=1e-4)\n"
   ]
  },
  {
   "cell_type": "code",
   "execution_count": null,
   "metadata": {},
   "outputs": [
    {
     "name": "stdout",
     "output_type": "stream",
     "text": [
      "Epoch: 9999 | Train loss: 2.682e-03 | Test loss: 2.705e-03 (Lowest: 2.705e-03)\n",
      "Training complete - saving.\n"
     ]
    }
   ],
   "source": [
    "train(\n",
    "    model, \n",
    "    data=[xtrain, ytrain, xtest, ytest], \n",
    "    n_epochs=10000, \n",
    "    n_batches=1, \n",
    "    loss_function=torch.nn.MSELoss(),\n",
    "    optimiser=optimiser,\n",
    "    update_every=100,\n",
    "    verbose=True,\n",
    ")"
   ]
  },
  {
   "cell_type": "code",
   "execution_count": null,
   "metadata": {},
   "outputs": [],
   "source": [
    "n_train = int(1e5)\n",
    "m1 = np.random.uniform(1, 100, n_train)\n",
    "m2 = np.random.uniform(1, 100, n_train)\n",
    "dL = np.random.uniform(0.01, 1, n_train)\n",
    "alpha = np.random.uniform(0, 2*np.pi, n_train)\n",
    "delta = np.random.uniform(0, 2*np.pi, n_train)\n",
    "\n",
    "true_snrs = snr(m1, m2, dL , alpha, delta) * dL\n",
    "xdata = torch.as_tensor(np.vstack((m1, m2, alpha, delta)).T, device=device).float()\n",
    "ydata = torch.as_tensor(true_snrs, device=device).float()"
   ]
  },
  {
   "cell_type": "code",
   "execution_count": null,
   "metadata": {},
   "outputs": [],
   "source": [
    "# pred = model.run_on_dataset(xdata, luminosity_distances=torch.as_tensor(dL[:int(9e5)], device=device).float()).cpu().numpy()\n",
    "pred = model.run_on_dataset(xdata).cpu().numpy()\n",
    "actual = true_snrs# / dL"
   ]
  },
  {
   "cell_type": "code",
   "execution_count": null,
   "metadata": {},
   "outputs": [],
   "source": []
  }
 ],
 "metadata": {
  "kernelspec": {
   "display_name": "test_env",
   "language": "python",
   "name": "python3"
  },
  "language_info": {
   "codemirror_mode": {
    "name": "ipython",
    "version": 3
   },
   "file_extension": ".py",
   "mimetype": "text/x-python",
   "name": "python",
   "nbconvert_exporter": "python",
   "pygments_lexer": "ipython3",
   "version": "3.11.0 | packaged by conda-forge | (main, Oct 25 2022, 06:24:40) [GCC 10.4.0]"
  },
  "orig_nbformat": 4,
  "vscode": {
   "interpreter": {
    "hash": "0db5928c791268e2e643772b1a55828ebb95dcc151f26e4b82932884ba528d53"
   }
  }
 },
 "nbformat": 4,
 "nbformat_minor": 2
}
